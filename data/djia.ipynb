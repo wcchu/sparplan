{
 "cells": [
  {
   "cell_type": "code",
   "execution_count": 1,
   "id": "d2c6faac-9987-41a9-b4fe-3efb2b736c22",
   "metadata": {},
   "outputs": [],
   "source": [
    "import pandas as pd\n",
    "from datetime import datetime"
   ]
  },
  {
   "cell_type": "code",
   "execution_count": 2,
   "id": "d32d8ab6-ff4f-42bc-8082-d3cc53ccf65a",
   "metadata": {},
   "outputs": [
    {
     "data": {
      "text/html": [
       "<div>\n",
       "<style scoped>\n",
       "    .dataframe tbody tr th:only-of-type {\n",
       "        vertical-align: middle;\n",
       "    }\n",
       "\n",
       "    .dataframe tbody tr th {\n",
       "        vertical-align: top;\n",
       "    }\n",
       "\n",
       "    .dataframe thead th {\n",
       "        text-align: right;\n",
       "    }\n",
       "</style>\n",
       "<table border=\"1\" class=\"dataframe\">\n",
       "  <thead>\n",
       "    <tr style=\"text-align: right;\">\n",
       "      <th></th>\n",
       "      <th>Date</th>\n",
       "      <th>Open</th>\n",
       "      <th>High</th>\n",
       "      <th>Low</th>\n",
       "      <th>Close</th>\n",
       "    </tr>\n",
       "  </thead>\n",
       "  <tbody>\n",
       "    <tr>\n",
       "      <th>0</th>\n",
       "      <td>12/31/2024</td>\n",
       "      <td>42,636.70</td>\n",
       "      <td>42,779.69</td>\n",
       "      <td>42,421.29</td>\n",
       "      <td>42,544.22</td>\n",
       "    </tr>\n",
       "    <tr>\n",
       "      <th>1</th>\n",
       "      <td>12/30/2024</td>\n",
       "      <td>42,863.86</td>\n",
       "      <td>42,863.86</td>\n",
       "      <td>42,263.51</td>\n",
       "      <td>42,573.73</td>\n",
       "    </tr>\n",
       "    <tr>\n",
       "      <th>2</th>\n",
       "      <td>12/27/2024</td>\n",
       "      <td>43,142.37</td>\n",
       "      <td>43,238.85</td>\n",
       "      <td>42,761.56</td>\n",
       "      <td>42,992.21</td>\n",
       "    </tr>\n",
       "    <tr>\n",
       "      <th>3</th>\n",
       "      <td>12/26/2024</td>\n",
       "      <td>43,201.85</td>\n",
       "      <td>43,373.98</td>\n",
       "      <td>43,115.09</td>\n",
       "      <td>43,325.80</td>\n",
       "    </tr>\n",
       "    <tr>\n",
       "      <th>4</th>\n",
       "      <td>12/24/2024</td>\n",
       "      <td>42,916.48</td>\n",
       "      <td>43,297.65</td>\n",
       "      <td>42,871.76</td>\n",
       "      <td>43,297.03</td>\n",
       "    </tr>\n",
       "  </tbody>\n",
       "</table>\n",
       "</div>"
      ],
      "text/plain": [
       "         Date       Open       High        Low      Close\n",
       "0  12/31/2024  42,636.70  42,779.69  42,421.29  42,544.22\n",
       "1  12/30/2024  42,863.86  42,863.86  42,263.51  42,573.73\n",
       "2  12/27/2024  43,142.37  43,238.85  42,761.56  42,992.21\n",
       "3  12/26/2024  43,201.85  43,373.98  43,115.09  43,325.80\n",
       "4  12/24/2024  42,916.48  43,297.65  42,871.76  43,297.03"
      ]
     },
     "execution_count": 2,
     "metadata": {},
     "output_type": "execute_result"
    }
   ],
   "source": [
    "# Dow Jones Industrial Average\n",
    "# csv downloaded from https://www.marketwatch.com/investing/index/djia/download-data\n",
    "df = pd.read_csv('djia.csv')\n",
    "df.head()"
   ]
  },
  {
   "cell_type": "code",
   "execution_count": 3,
   "id": "437200cd-fe16-4fb7-b86a-5da02fef4b76",
   "metadata": {},
   "outputs": [
    {
     "data": {
      "text/html": [
       "<div>\n",
       "<style scoped>\n",
       "    .dataframe tbody tr th:only-of-type {\n",
       "        vertical-align: middle;\n",
       "    }\n",
       "\n",
       "    .dataframe tbody tr th {\n",
       "        vertical-align: top;\n",
       "    }\n",
       "\n",
       "    .dataframe thead th {\n",
       "        text-align: right;\n",
       "    }\n",
       "</style>\n",
       "<table border=\"1\" class=\"dataframe\">\n",
       "  <thead>\n",
       "    <tr style=\"text-align: right;\">\n",
       "      <th></th>\n",
       "      <th>date</th>\n",
       "      <th>value</th>\n",
       "    </tr>\n",
       "  </thead>\n",
       "  <tbody>\n",
       "    <tr>\n",
       "      <th>0</th>\n",
       "      <td>2024-12-31</td>\n",
       "      <td>42544.22</td>\n",
       "    </tr>\n",
       "    <tr>\n",
       "      <th>1</th>\n",
       "      <td>2024-12-30</td>\n",
       "      <td>42573.73</td>\n",
       "    </tr>\n",
       "    <tr>\n",
       "      <th>2</th>\n",
       "      <td>2024-12-27</td>\n",
       "      <td>42992.21</td>\n",
       "    </tr>\n",
       "    <tr>\n",
       "      <th>3</th>\n",
       "      <td>2024-12-26</td>\n",
       "      <td>43325.80</td>\n",
       "    </tr>\n",
       "    <tr>\n",
       "      <th>4</th>\n",
       "      <td>2024-12-24</td>\n",
       "      <td>43297.03</td>\n",
       "    </tr>\n",
       "  </tbody>\n",
       "</table>\n",
       "</div>"
      ],
      "text/plain": [
       "         date     value\n",
       "0  2024-12-31  42544.22\n",
       "1  2024-12-30  42573.73\n",
       "2  2024-12-27  42992.21\n",
       "3  2024-12-26  43325.80\n",
       "4  2024-12-24  43297.03"
      ]
     },
     "execution_count": 3,
     "metadata": {},
     "output_type": "execute_result"
    }
   ],
   "source": [
    "dat = pd.DataFrame(data={\n",
    "    'date': [datetime.strptime(d, '%m/%d/%Y').date().isoformat() for d in df['Date']],\n",
    "    'value': [float(x.replace(',', '')) for x in df['Close']],\n",
    "})\n",
    "dat.head()"
   ]
  },
  {
   "cell_type": "code",
   "execution_count": 4,
   "id": "e10e795c-aa45-4f61-82c7-d5368f070944",
   "metadata": {},
   "outputs": [],
   "source": [
    "dat.to_parquet('djia.parquet')"
   ]
  }
 ],
 "metadata": {
  "kernelspec": {
   "display_name": "Python 3 (ipykernel)",
   "language": "python",
   "name": "python3"
  },
  "language_info": {
   "codemirror_mode": {
    "name": "ipython",
    "version": 3
   },
   "file_extension": ".py",
   "mimetype": "text/x-python",
   "name": "python",
   "nbconvert_exporter": "python",
   "pygments_lexer": "ipython3",
   "version": "3.12.3"
  }
 },
 "nbformat": 4,
 "nbformat_minor": 5
}

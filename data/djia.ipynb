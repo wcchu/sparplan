{
 "cells": [
  {
   "cell_type": "code",
   "execution_count": 1,
   "id": "d2c6faac-9987-41a9-b4fe-3efb2b736c22",
   "metadata": {},
   "outputs": [],
   "source": [
    "import pandas as pd\n",
    "from datetime import datetime"
   ]
  },
  {
   "cell_type": "code",
   "execution_count": 2,
   "id": "d32d8ab6-ff4f-42bc-8082-d3cc53ccf65a",
   "metadata": {},
   "outputs": [
    {
     "data": {
      "text/html": [
       "<div>\n",
       "<style scoped>\n",
       "    .dataframe tbody tr th:only-of-type {\n",
       "        vertical-align: middle;\n",
       "    }\n",
       "\n",
       "    .dataframe tbody tr th {\n",
       "        vertical-align: top;\n",
       "    }\n",
       "\n",
       "    .dataframe thead th {\n",
       "        text-align: right;\n",
       "    }\n",
       "</style>\n",
       "<table border=\"1\" class=\"dataframe\">\n",
       "  <thead>\n",
       "    <tr style=\"text-align: right;\">\n",
       "      <th></th>\n",
       "      <th>Date</th>\n",
       "      <th>Open</th>\n",
       "      <th>High</th>\n",
       "      <th>Low</th>\n",
       "      <th>Close</th>\n",
       "    </tr>\n",
       "  </thead>\n",
       "  <tbody>\n",
       "    <tr>\n",
       "      <th>0</th>\n",
       "      <td>03/21/2025</td>\n",
       "      <td>41,763.40</td>\n",
       "      <td>42,011.40</td>\n",
       "      <td>41,433.86</td>\n",
       "      <td>41,985.35</td>\n",
       "    </tr>\n",
       "    <tr>\n",
       "      <th>1</th>\n",
       "      <td>03/20/2025</td>\n",
       "      <td>41,795.26</td>\n",
       "      <td>42,250.29</td>\n",
       "      <td>41,695.61</td>\n",
       "      <td>41,953.32</td>\n",
       "    </tr>\n",
       "    <tr>\n",
       "      <th>2</th>\n",
       "      <td>03/19/2025</td>\n",
       "      <td>41,613.19</td>\n",
       "      <td>42,178.41</td>\n",
       "      <td>41,613.19</td>\n",
       "      <td>41,964.63</td>\n",
       "    </tr>\n",
       "    <tr>\n",
       "      <th>3</th>\n",
       "      <td>03/18/2025</td>\n",
       "      <td>41,772.91</td>\n",
       "      <td>41,787.25</td>\n",
       "      <td>41,415.43</td>\n",
       "      <td>41,581.31</td>\n",
       "    </tr>\n",
       "    <tr>\n",
       "      <th>4</th>\n",
       "      <td>03/17/2025</td>\n",
       "      <td>41,460.22</td>\n",
       "      <td>42,013.10</td>\n",
       "      <td>41,412.75</td>\n",
       "      <td>41,841.63</td>\n",
       "    </tr>\n",
       "  </tbody>\n",
       "</table>\n",
       "</div>"
      ],
      "text/plain": [
       "         Date       Open       High        Low      Close\n",
       "0  03/21/2025  41,763.40  42,011.40  41,433.86  41,985.35\n",
       "1  03/20/2025  41,795.26  42,250.29  41,695.61  41,953.32\n",
       "2  03/19/2025  41,613.19  42,178.41  41,613.19  41,964.63\n",
       "3  03/18/2025  41,772.91  41,787.25  41,415.43  41,581.31\n",
       "4  03/17/2025  41,460.22  42,013.10  41,412.75  41,841.63"
      ]
     },
     "execution_count": 2,
     "metadata": {},
     "output_type": "execute_result"
    }
   ],
   "source": [
    "# Dow Jones Industrial Average\n",
    "# csv downloaded from https://www.marketwatch.com/investing/index/djia/download-data\n",
    "df = pd.read_csv('djia.csv')\n",
    "df.head()"
   ]
  },
  {
   "cell_type": "code",
   "execution_count": 3,
   "id": "437200cd-fe16-4fb7-b86a-5da02fef4b76",
   "metadata": {},
   "outputs": [
    {
     "data": {
      "text/html": [
       "<div>\n",
       "<style scoped>\n",
       "    .dataframe tbody tr th:only-of-type {\n",
       "        vertical-align: middle;\n",
       "    }\n",
       "\n",
       "    .dataframe tbody tr th {\n",
       "        vertical-align: top;\n",
       "    }\n",
       "\n",
       "    .dataframe thead th {\n",
       "        text-align: right;\n",
       "    }\n",
       "</style>\n",
       "<table border=\"1\" class=\"dataframe\">\n",
       "  <thead>\n",
       "    <tr style=\"text-align: right;\">\n",
       "      <th></th>\n",
       "      <th>date</th>\n",
       "      <th>value</th>\n",
       "    </tr>\n",
       "  </thead>\n",
       "  <tbody>\n",
       "    <tr>\n",
       "      <th>0</th>\n",
       "      <td>2025-03-21</td>\n",
       "      <td>41985.35</td>\n",
       "    </tr>\n",
       "    <tr>\n",
       "      <th>1</th>\n",
       "      <td>2025-03-20</td>\n",
       "      <td>41953.32</td>\n",
       "    </tr>\n",
       "    <tr>\n",
       "      <th>2</th>\n",
       "      <td>2025-03-19</td>\n",
       "      <td>41964.63</td>\n",
       "    </tr>\n",
       "    <tr>\n",
       "      <th>3</th>\n",
       "      <td>2025-03-18</td>\n",
       "      <td>41581.31</td>\n",
       "    </tr>\n",
       "    <tr>\n",
       "      <th>4</th>\n",
       "      <td>2025-03-17</td>\n",
       "      <td>41841.63</td>\n",
       "    </tr>\n",
       "  </tbody>\n",
       "</table>\n",
       "</div>"
      ],
      "text/plain": [
       "         date     value\n",
       "0  2025-03-21  41985.35\n",
       "1  2025-03-20  41953.32\n",
       "2  2025-03-19  41964.63\n",
       "3  2025-03-18  41581.31\n",
       "4  2025-03-17  41841.63"
      ]
     },
     "execution_count": 3,
     "metadata": {},
     "output_type": "execute_result"
    }
   ],
   "source": [
    "dat = pd.DataFrame(data={\n",
    "    'date': [datetime.strptime(d, '%m/%d/%Y').date().isoformat() for d in df['Date']],\n",
    "    'value': [float(x.replace(',', '')) for x in df['Close']],\n",
    "})\n",
    "dat.head()"
   ]
  },
  {
   "cell_type": "code",
   "execution_count": 4,
   "id": "e10e795c-aa45-4f61-82c7-d5368f070944",
   "metadata": {},
   "outputs": [],
   "source": [
    "dat.to_parquet('djia.parquet')"
   ]
  }
 ],
 "metadata": {
  "kernelspec": {
   "display_name": "Python 3 (ipykernel)",
   "language": "python",
   "name": "python3"
  },
  "language_info": {
   "codemirror_mode": {
    "name": "ipython",
    "version": 3
   },
   "file_extension": ".py",
   "mimetype": "text/x-python",
   "name": "python",
   "nbconvert_exporter": "python",
   "pygments_lexer": "ipython3",
   "version": "3.12.3"
  }
 },
 "nbformat": 4,
 "nbformat_minor": 5
}

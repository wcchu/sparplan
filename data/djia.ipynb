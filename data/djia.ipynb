{
 "cells": [
  {
   "cell_type": "code",
   "execution_count": 1,
   "id": "d2c6faac-9987-41a9-b4fe-3efb2b736c22",
   "metadata": {},
   "outputs": [],
   "source": [
    "import pandas as pd\n",
    "from datetime import datetime"
   ]
  },
  {
   "cell_type": "code",
   "execution_count": 2,
   "id": "d32d8ab6-ff4f-42bc-8082-d3cc53ccf65a",
   "metadata": {},
   "outputs": [
    {
     "name": "stdout",
     "output_type": "stream",
     "text": [
      "<class 'pandas.core.frame.DataFrame'>\n",
      "RangeIndex: 2610 entries, 0 to 2609\n",
      "Data columns (total 2 columns):\n",
      " #   Column            Non-Null Count  Dtype  \n",
      "---  ------            --------------  -----  \n",
      " 0   observation_date  2610 non-null   object \n",
      " 1   DJIA              2516 non-null   float64\n",
      "dtypes: float64(1), object(1)\n",
      "memory usage: 40.9+ KB\n"
     ]
    }
   ],
   "source": [
    "# Dow Jones Industrial Average\n",
    "# csv downloaded from https://fred.stlouisfed.org/series/DJIA\n",
    "df = pd.read_csv('djia.csv')\n",
    "df.info()"
   ]
  },
  {
   "cell_type": "code",
   "execution_count": 3,
   "id": "e10e795c-aa45-4f61-82c7-d5368f070944",
   "metadata": {},
   "outputs": [],
   "source": [
    "df.rename(\n",
    "    columns={'observation_date': 'date', 'DJIA': 'value'}\n",
    ").dropna(\n",
    "    axis=0\n",
    ").to_parquet('djia.parquet')"
   ]
  }
 ],
 "metadata": {
  "kernelspec": {
   "display_name": "Python 3 (ipykernel)",
   "language": "python",
   "name": "python3"
  },
  "language_info": {
   "codemirror_mode": {
    "name": "ipython",
    "version": 3
   },
   "file_extension": ".py",
   "mimetype": "text/x-python",
   "name": "python",
   "nbconvert_exporter": "python",
   "pygments_lexer": "ipython3",
   "version": "3.12.3"
  }
 },
 "nbformat": 4,
 "nbformat_minor": 5
}
